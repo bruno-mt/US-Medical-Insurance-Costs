{
 "cells": [
  {
   "cell_type": "markdown",
   "metadata": {},
   "source": [
    "# U.S. Medical Insurance Costs"
   ]
  },
  {
   "cell_type": "markdown",
   "metadata": {},
   "source": [
    "## Project info\n",
    "\n",
    "**Data file: insurance.csv**\n",
    "\n",
    "**Headers:**\n",
    "- age: int\n",
    "- sex: str > female / male\n",
    "- bmi: float\n",
    "- children: int\n",
    "- smoker: str > yes / no\n",
    "- region: str > southwest / southeast / northwest / northeast\n",
    "- charges: float\n",
    "\n",
    "## Scope\n",
    "\n",
    "**Possible questions:**\n",
    "- Average price?\n",
    "- Average price for males vs females?\n",
    "- Average price for each region?\n",
    "- Average price and difference for smokers vs non-smokers?\n",
    "- Difference in price for youngest vs oldest?\n",
    "- Average age?\n",
    "- How many patients are female & male?\n",
    "- How many patients for each region?\n",
    "- Average age for people with at least 1 child?\n",
    "- Average age for smokers vs non-smokers?"
   ]
  },
  {
   "cell_type": "code",
   "execution_count": null,
   "metadata": {},
   "outputs": [],
   "source": []
  }
 ],
 "metadata": {
  "kernelspec": {
   "display_name": "Python 3 (ipykernel)",
   "language": "python",
   "name": "python3"
  },
  "language_info": {
   "codemirror_mode": {
    "name": "ipython",
    "version": 3
   },
   "file_extension": ".py",
   "mimetype": "text/x-python",
   "name": "python",
   "nbconvert_exporter": "python",
   "pygments_lexer": "ipython3",
   "version": "3.11.7"
  }
 },
 "nbformat": 4,
 "nbformat_minor": 4
}
