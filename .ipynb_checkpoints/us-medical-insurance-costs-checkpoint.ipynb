{
 "cells": [
  {
   "cell_type": "markdown",
   "metadata": {},
   "source": [
    "# U.S. Medical Insurance Costs"
   ]
  },
  {
   "cell_type": "markdown",
   "metadata": {},
   "source": [
    "## Project info\n",
    "\n",
    "**Data file: insurance.csv**\n",
    "\n",
    "**Headers:**\n",
    "- age: int\n",
    "- sex: str > female / male\n",
    "- bmi: float\n",
    "- children: int\n",
    "- smoker: str > yes / no\n",
    "- region: str > southwest / southeast / northwest / northeast\n",
    "- charges: float"
   ]
  },
  {
   "cell_type": "markdown",
   "metadata": {},
   "source": [
    "## Scope\n",
    "\n",
    "**Possible questions:**\n",
    "- Average price?\n",
    "- Average price for males vs females?\n",
    "- Average price for each region?\n",
    "- Average price and difference for smokers vs non-smokers?\n",
    "- Difference in price for youngest vs oldest?\n",
    "- Average age?\n",
    "- How many patients are female & male?\n",
    "- How many patients for each region?\n",
    "- Average age for people with at least 1 child?\n",
    "- Average age for smokers vs non-smokers?"
   ]
  },
  {
   "cell_type": "markdown",
   "metadata": {},
   "source": [
    "## Work\n",
    "### Importing Data"
   ]
  },
  {
   "cell_type": "markdown",
   "metadata": {},
   "source": [
    "First, we'll import the csv library in order to be able to work with the CSV file:"
   ]
  },
  {
   "cell_type": "code",
   "execution_count": 6,
   "metadata": {},
   "outputs": [],
   "source": [
    "import csv"
   ]
  },
  {
   "cell_type": "markdown",
   "metadata": {},
   "source": [
    "Next, let's create empty lists for each of the file's columns:"
   ]
  },
  {
   "cell_type": "code",
   "execution_count": 8,
   "metadata": {},
   "outputs": [],
   "source": [
    "age = []\n",
    "sex = []\n",
    "bmi = []\n",
    "children = []\n",
    "smoker = []\n",
    "region = []\n",
    "charges = []"
   ]
  },
  {
   "cell_type": "markdown",
   "metadata": {},
   "source": [
    "Now, we need a function that will let us extract each column from the csv file into a list."
   ]
  },
  {
   "cell_type": "code",
   "execution_count": 10,
   "metadata": {},
   "outputs": [],
   "source": [
    "def csv_to_list (list, file, column):\n",
    "    with open (file) as csv_file:\n",
    "        csv_data = csv.DictReader(csv_file)\n",
    "        for patient in csv_data:\n",
    "            list.append(patient[column])\n",
    "    return list"
   ]
  },
  {
   "cell_type": "markdown",
   "metadata": {},
   "source": [
    "Function Test:"
   ]
  },
  {
   "cell_type": "code",
   "execution_count": 12,
   "metadata": {},
   "outputs": [],
   "source": [
    "# age = csv_to_list(age, \"insurance.csv\", \"age\")\n",
    "# print (age)"
   ]
  },
  {
   "cell_type": "markdown",
   "metadata": {},
   "source": [
    "After testing, everything works correctly.\n",
    "\n",
    "Let's now populate our lists:"
   ]
  },
  {
   "cell_type": "code",
   "execution_count": 14,
   "metadata": {},
   "outputs": [],
   "source": [
    "age = csv_to_list(age, \"insurance.csv\", \"age\")\n",
    "sex = csv_to_list(sex, \"insurance.csv\", \"sex\")\n",
    "bmi = csv_to_list(bmi, \"insurance.csv\", \"bmi\")\n",
    "children = csv_to_list(children, \"insurance.csv\", \"children\")\n",
    "smoker = csv_to_list(smoker, \"insurance.csv\", \"smoker\")\n",
    "region = csv_to_list(region, \"insurance.csv\", \"region\")\n",
    "charges = csv_to_list(charges, \"insurance.csv\", \"charges\")"
   ]
  },
  {
   "cell_type": "markdown",
   "metadata": {},
   "source": [
    "We can also make a dictionary and assign an ID no. to each patient:"
   ]
  },
  {
   "cell_type": "code",
   "execution_count": 16,
   "metadata": {},
   "outputs": [],
   "source": [
    "patient_dict = {}\n",
    "for i in range(len(age)):\n",
    "    patient_dict[i] = {\"age\": age[i], \"sex\": sex[i], \"bmi\": bmi[i], \"children\": children[i], \"smoker\": smoker[i], \"region\": region[i], \"charges\": charges[i]}\n",
    "# print(patient_dict)\n"
   ]
  },
  {
   "cell_type": "markdown",
   "metadata": {},
   "source": [
    "We now have access to everything in the csv in an orderly way, let's start answering some questions.\n",
    "\n",
    "### Analysis"
   ]
  },
  {
   "cell_type": "markdown",
   "metadata": {},
   "source": [
    "After manipulating the data and some thinking, these are the questions we'll be answering:\n",
    "\n",
    "1. Average insurance cost?\n",
    "2. How many patients in our dataset are male and how many female?\n",
    "3. What are the unique regions in our dataset?\n",
    "4. How many of our patients are smokers vs non-smokers?\n",
    "5. What's the average age?\n",
    "6. Average cost for males and females? Difference?\n",
    "7. Average cost for each region?\n",
    "8. Average cost for smokers and non-smokers? Difference?\n",
    "9. Average age for people with at least 1 child?\n",
    "10. Average age for smokers and non-smokers?-smokers?"
   ]
  },
  {
   "cell_type": "markdown",
   "metadata": {},
   "source": [
    "#### 1. Average insurance cost?"
   ]
  },
  {
   "cell_type": "code",
   "execution_count": 20,
   "metadata": {},
   "outputs": [],
   "source": [
    "def avg_insurance_cost (dict):\n",
    "    total_cost = 0\n",
    "    for patient in dict:\n",
    "        total_cost += float(dict[patient][\"charges\"])\n",
    "    average = total_cost / len(dict)\n",
    "    return round(average, 2)"
   ]
  },
  {
   "cell_type": "code",
   "execution_count": 21,
   "metadata": {},
   "outputs": [
    {
     "name": "stdout",
     "output_type": "stream",
     "text": [
      "The average insurance cost for our dataset is: $13270.42 USD per year.\n"
     ]
    }
   ],
   "source": [
    "avg_cost = avg_insurance_cost(patient_dict)\n",
    "print (\"The average insurance cost for our dataset is: ${} USD per year.\".format(avg_cost))"
   ]
  },
  {
   "cell_type": "markdown",
   "metadata": {},
   "source": [
    "After calculating the average, I realized I missed an important piece of data: our dataset size. I already knew this because I manually inspected the CSV file. But I believe I should include it here as well."
   ]
  },
  {
   "cell_type": "code",
   "execution_count": 23,
   "metadata": {},
   "outputs": [
    {
     "name": "stdout",
     "output_type": "stream",
     "text": [
      "Our dataset contains the info for 1338 patients.\n"
     ]
    }
   ],
   "source": [
    "dataset_size = len(patient_dict)\n",
    "print(\"Our dataset contains the info for {} patients.\".format(dataset_size))"
   ]
  },
  {
   "cell_type": "markdown",
   "metadata": {},
   "source": [
    "#### 2. How many patients in our dataset are male and how many female?"
   ]
  },
  {
   "cell_type": "code",
   "execution_count": 25,
   "metadata": {},
   "outputs": [],
   "source": [
    "def gender_totals(dict):\n",
    "    male_count = 0\n",
    "    female_count = 0\n",
    "    missing_data = False\n",
    "    for patient in dict:\n",
    "        if dict[patient][\"sex\"] == \"male\":\n",
    "            male_count += 1\n",
    "        elif dict[patient][\"sex\"] == \"female\":\n",
    "            female_count += 1\n",
    "        else:\n",
    "            missing_data = True\n",
    "    if missing_data:\n",
    "        print(\"Some data is missing. Please verify.\")\n",
    "    return male_count, female_count"
   ]
  },
  {
   "cell_type": "code",
   "execution_count": 26,
   "metadata": {},
   "outputs": [
    {
     "name": "stdout",
     "output_type": "stream",
     "text": [
      "Our dataset has 676 males and 662 females.\n"
     ]
    }
   ],
   "source": [
    "male_patients, female_patients = gender_totals(patient_dict)\n",
    "print (\"Our dataset has {} males and {} females.\".format(male_patients, female_patients))"
   ]
  },
  {
   "cell_type": "markdown",
   "metadata": {},
   "source": [
    "This shows us our dataset has a good balance between males and females, both being very close to the 50% of the results."
   ]
  },
  {
   "cell_type": "markdown",
   "metadata": {},
   "source": [
    "#### 3. What are the unique regions in our dataset?"
   ]
  },
  {
   "cell_type": "code",
   "execution_count": 29,
   "metadata": {},
   "outputs": [],
   "source": [
    "def unique_regions (dict):\n",
    "    region_list = []\n",
    "    for patient in dict:\n",
    "        region = dict[patient][\"region\"]\n",
    "        if region not in region_list:\n",
    "            region_list.append(region)\n",
    "        else:\n",
    "            continue\n",
    "    return region_list"
   ]
  },
  {
   "cell_type": "code",
   "execution_count": 30,
   "metadata": {},
   "outputs": [
    {
     "name": "stdout",
     "output_type": "stream",
     "text": [
      "The unique regions in our dataset are: ['southwest', 'southeast', 'northwest', 'northeast']\n"
     ]
    }
   ],
   "source": [
    "dataset_regions = unique_regions(patient_dict)\n",
    "print (\"The unique regions in our dataset are:\", dataset_regions)"
   ]
  },
  {
   "cell_type": "markdown",
   "metadata": {},
   "source": [
    "#### 4. How many of our patients are smokers vs non-smokers?"
   ]
  },
  {
   "cell_type": "code",
   "execution_count": 32,
   "metadata": {},
   "outputs": [],
   "source": [
    "def total_smokers(dict):\n",
    "    smokers = 0\n",
    "    non_smokers = 0\n",
    "    for patient in dict:\n",
    "        if dict[patient][\"smoker\"] == \"yes\":\n",
    "            smokers += 1\n",
    "        elif dict[patient][\"smoker\"] == \"no\":\n",
    "            non_smokers += 1\n",
    "    return smokers, non_smokers\n"
   ]
  },
  {
   "cell_type": "code",
   "execution_count": 33,
   "metadata": {},
   "outputs": [
    {
     "name": "stdout",
     "output_type": "stream",
     "text": [
      "We have 274 smokers and 1064 non smokers in our dataset.\n"
     ]
    }
   ],
   "source": [
    "smoker_patients, non_smoker_patients = total_smokers(patient_dict)\n",
    "print(\"We have {} smokers and {} non smokers in our dataset.\".format(smoker_patients, non_smoker_patients))"
   ]
  },
  {
   "cell_type": "markdown",
   "metadata": {},
   "source": [
    "#### 5. What's the average age for our patients?"
   ]
  },
  {
   "cell_type": "code",
   "execution_count": 35,
   "metadata": {},
   "outputs": [],
   "source": [
    "def calculate_avg_age (dict):\n",
    "    total_age = 0\n",
    "    for patient in dict:\n",
    "        total_age += int(dict[patient][\"age\"])\n",
    "    average = total_age / len(dict)\n",
    "    return round(average, 2)"
   ]
  },
  {
   "cell_type": "code",
   "execution_count": 36,
   "metadata": {},
   "outputs": [
    {
     "name": "stdout",
     "output_type": "stream",
     "text": [
      "The average patient age in our dataset is: 39.21 years.\n"
     ]
    }
   ],
   "source": [
    "avg_age = calculate_avg_age(patient_dict)\n",
    "print (\"The average patient age in our dataset is: {} years.\".format(avg_age))"
   ]
  },
  {
   "cell_type": "markdown",
   "metadata": {},
   "source": [
    "#### 6. Average cost for males and females? Difference?"
   ]
  },
  {
   "cell_type": "code",
   "execution_count": 53,
   "metadata": {},
   "outputs": [],
   "source": [
    "def avg_cost_male_vs_female(dict):\n",
    "    male_count = 0\n",
    "    male_total_cost = 0\n",
    "    female_count = 0\n",
    "    female_total_cost = 0\n",
    "    for patient in dict:\n",
    "        if dict[patient][\"sex\"] == \"male\":\n",
    "            male_count += 1\n",
    "            male_total_cost += float(dict[patient][\"charges\"])\n",
    "        elif dict[patient][\"sex\"] == \"female\":\n",
    "            female_count += 1\n",
    "            female_total_cost += float(dict[patient][\"charges\"])\n",
    "    male_avg = male_total_cost / male_count\n",
    "    female_avg = female_total_cost / female_count\n",
    "    return round(male_avg, 2), round(female_avg, 2)\n",
    "\n",
    "def m_vs_f_cost_difference(male_cost, female_cost):\n",
    "    difference = abs(male_cost - female_cost)\n",
    "    if male_cost > female_cost:\n",
    "        print (\"Our female patients' yearly insurance cost is lower by ${} USD.\".format(difference))\n",
    "    elif female_cost > male_cost:\n",
    "        print (\"Our male patients' yearly insurance cost is lower by ${} USD.\".format(difference))\n",
    "    else:\n",
    "        print(\"There's no difference in the average insurance cost between males and females\")"
   ]
  },
  {
   "cell_type": "code",
   "execution_count": 55,
   "metadata": {},
   "outputs": [
    {
     "name": "stdout",
     "output_type": "stream",
     "text": [
      "The average insurance cost for the male patients in our dataset is: $13956.75.\n",
      "The average insurance cost for the female patients in our dataset is: $12569.58.\n",
      "Our female patients' yearly insurance cost is lower by $1387.17 USD.\n"
     ]
    }
   ],
   "source": [
    "male_avg_cost, female_avg_cost = avg_cost_male_vs_female(patient_dict)\n",
    "print('''The average insurance cost for the male patients in our dataset is: ${}.\n",
    "The average insurance cost for the female patients in our dataset is: ${}.'''.format(male_avg_cost, female_avg_cost))\n",
    "m_vs_f_cost_difference(male_avg_cost, female_avg_cost)"
   ]
  },
  {
   "cell_type": "markdown",
   "metadata": {},
   "source": [
    "#### 7. Average cost for each region?"
   ]
  },
  {
   "cell_type": "code",
   "execution_count": 48,
   "metadata": {},
   "outputs": [],
   "source": [
    "def cost_per_region(dict):\n",
    "    se_cost = 0\n",
    "    se_total = 0\n",
    "    sw_cost = 0\n",
    "    sw_total = 0\n",
    "    ne_cost = 0\n",
    "    ne_total = 0\n",
    "    nw_cost = 0\n",
    "    nw_total = 0\n",
    "    \n",
    "    for patient in dict:\n",
    "        if dict[patient][\"region\"] == \"southeast\":\n",
    "            se_total += 1\n",
    "            se_cost += float(dict[patient][\"charges\"])\n",
    "        elif dict[patient][\"region\"] == \"southwest\":\n",
    "            sw_total += 1\n",
    "            sw_cost += float(dict[patient][\"charges\"])\n",
    "        elif dict[patient][\"region\"] == \"northeast\":\n",
    "            ne_total += 1\n",
    "            ne_cost += float(dict[patient][\"charges\"])\n",
    "        elif dict[patient][\"region\"] == \"northwest\":\n",
    "            nw_total += 1\n",
    "            nw_cost += float(dict[patient][\"charges\"])\n",
    "    se_avg = round(se_cost / se_total, 2)\n",
    "    sw_avg = round(sw_cost / sw_total, 2)\n",
    "    ne_avg = round(ne_cost / ne_total, 2)\n",
    "    nw_avg = round(nw_cost / nw_total, 2)\n",
    "\n",
    "    return se_avg, sw_avg, ne_avg, nw_avg"
   ]
  },
  {
   "cell_type": "code",
   "execution_count": 50,
   "metadata": {},
   "outputs": [
    {
     "name": "stdout",
     "output_type": "stream",
     "text": [
      "\n",
      "The average yearly insurance cost for each region in our dataset is:\n",
      "- South East: $14735.41 dollars.\n",
      "- South West: $12346.94 dollars.\n",
      "- North East: $13406.38 dollars.\n",
      "- North West: $12417.58 dollars.\n",
      "\n"
     ]
    }
   ],
   "source": [
    "se_avg_cost, sw_avg_cost, ne_avg_cost, nw_avg_cost = cost_per_region(patient_dict)\n",
    "print('''\n",
    "The average yearly insurance cost for each region in our dataset is:\n",
    "- South East: ${} dollars.\n",
    "- South West: ${} dollars.\n",
    "- North East: ${} dollars.\n",
    "- North West: ${} dollars.\n",
    "'''.format(se_avg_cost, sw_avg_cost, ne_avg_cost, nw_avg_cost))"
   ]
  },
  {
   "cell_type": "markdown",
   "metadata": {},
   "source": [
    "For some reason, the average insurance cost in the South East is more than the rest of the regions."
   ]
  },
  {
   "cell_type": "markdown",
   "metadata": {},
   "source": [
    "#### 8. Average cost for smokers and non-smokers? Difference?"
   ]
  },
  {
   "cell_type": "code",
   "execution_count": 57,
   "metadata": {},
   "outputs": [],
   "source": [
    "def avg_cost_smokers_vs_non_smokers(dict):\n",
    "    smoker_count = 0\n",
    "    smoker_total_cost = 0\n",
    "    non_smoker_count = 0\n",
    "    non_smoker_total_cost = 0\n",
    "    for patient in dict:\n",
    "        if dict[patient][\"smoker\"] == \"yes\":\n",
    "            smoker_count += 1\n",
    "            smoker_total_cost += float(dict[patient][\"charges\"])\n",
    "        elif dict[patient][\"smoker\"] == \"no\":\n",
    "            non_smoker_count += 1\n",
    "            non_smoker_total_cost += float(dict[patient][\"charges\"])\n",
    "    smoker_avg = smoker_total_cost / smoker_count\n",
    "    non_smoker_avg = non_smoker_total_cost / non_smoker_count\n",
    "    return round(smoker_avg, 2), round(non_smoker_avg, 2)\n",
    "\n",
    "def sm_vs_nsm_cost_difference(smoker_cost, non_smoker_cost):\n",
    "    difference = abs(smoker_cost - non_smoker_cost)\n",
    "    if smoker_cost > non_smoker_cost:\n",
    "        print (\"Our non smoker patients' yearly insurance cost is lower by ${} USD.\".format(difference))\n",
    "    elif non_smoker_cost > smoker_cost:\n",
    "        print (\"Our smoker patients' yearly insurance cost is lower by ${} USD.\".format(difference))\n",
    "    else:\n",
    "        print(\"There's no difference in the average insurance cost between smokers and non smokers\")"
   ]
  },
  {
   "cell_type": "code",
   "execution_count": 61,
   "metadata": {},
   "outputs": [
    {
     "name": "stdout",
     "output_type": "stream",
     "text": [
      "\n",
      "The average insurance cost for smoker patients is: $32050.23.\n",
      "The average insurance cost for non smoker patients is: $8434.27.\n",
      "\n",
      "Our non smoker patients' yearly insurance cost is lower by $23615.96 USD.\n"
     ]
    }
   ],
   "source": [
    "smoker_avg_cost, non_smoker_avg_cost = avg_cost_smokers_vs_non_smokers(patient_dict)\n",
    "print('''\n",
    "The average insurance cost for smoker patients is: ${}.\n",
    "The average insurance cost for non smoker patients is: ${}.\n",
    "'''.format(smoker_avg_cost, non_smoker_avg_cost))\n",
    "sm_vs_nsm_cost_difference(smoker_avg_cost, non_smoker_avg_cost)"
   ]
  },
  {
   "cell_type": "markdown",
   "metadata": {},
   "source": [
    "#### 9. Average age for people with at least 1 child?"
   ]
  },
  {
   "cell_type": "code",
   "execution_count": 67,
   "metadata": {},
   "outputs": [],
   "source": [
    "def patient_with_child_age(dict):\n",
    "    age_total = 0\n",
    "    patient_sum = 0\n",
    "    for patient in dict:\n",
    "        child = int(dict[patient][\"children\"])\n",
    "        if child > 0:\n",
    "            age_total += int(dict[patient][\"age\"])\n",
    "            patient_sum += 1\n",
    "    avg_age = age_total / patient_sum\n",
    "    return round(avg_age, 2)"
   ]
  },
  {
   "cell_type": "code",
   "execution_count": 69,
   "metadata": {},
   "outputs": [
    {
     "name": "stdout",
     "output_type": "stream",
     "text": [
      "The average age for patients in our dataset that have 1 or more children is 39.78 years.\n"
     ]
    }
   ],
   "source": [
    "avg_age_with_child = patient_with_child_age(patient_dict)\n",
    "\n",
    "print(\"The average age for patients in our dataset that have 1 or more children is {} years.\".format(avg_age_with_child))"
   ]
  },
  {
   "cell_type": "markdown",
   "metadata": {},
   "source": [
    "#### 10. Average age for smokers and non-smokers?"
   ]
  },
  {
   "cell_type": "code",
   "execution_count": 85,
   "metadata": {},
   "outputs": [],
   "source": [
    "def avg_age_smokers_vs_non_smokers(dict):\n",
    "    smoker_age = 0\n",
    "    smoker_count = 0\n",
    "    non_smoker_age = 0\n",
    "    non_smoker_count = 0\n",
    "    for patient in dict:\n",
    "        if dict[patient][\"smoker\"] == \"yes\":\n",
    "            smoker_age += int(dict[patient][\"age\"])\n",
    "            smoker_count += 1\n",
    "        elif dict[patient][\"smoker\"] == \"no\":\n",
    "            non_smoker_age += int(dict[patient][\"age\"])\n",
    "            non_smoker_count += 1\n",
    "    smoker_avg_age = smoker_age / smoker_count\n",
    "    non_smoker_avg_age = non_smoker_age / non_smoker_count\n",
    "    return round(smoker_avg_age, 2), round(non_smoker_avg_age, 2)"
   ]
  },
  {
   "cell_type": "code",
   "execution_count": 87,
   "metadata": {},
   "outputs": [
    {
     "name": "stdout",
     "output_type": "stream",
     "text": [
      "\n",
      "The average age of our smoker patients is: 38.51.\n",
      "The average age of our non smoker patients is: 39.39.\n",
      "\n"
     ]
    }
   ],
   "source": [
    "smoker_avg_age, non_smoker_avg_age = avg_age_smokers_vs_non_smokers(patient_dict)\n",
    "\n",
    "print('''\n",
    "The average age of our smoker patients is: {}.\n",
    "The average age of our non smoker patients is: {}.\n",
    "'''.format(smoker_avg_age, non_smoker_avg_age))"
   ]
  },
  {
   "cell_type": "markdown",
   "metadata": {},
   "source": [
    "From this result we can conclude that *for our specific dataset*, there's no substantial difference in the ages between our smoker and non smoker patients."
   ]
  },
  {
   "cell_type": "code",
   "execution_count": null,
   "metadata": {},
   "outputs": [],
   "source": []
  }
 ],
 "metadata": {
  "kernelspec": {
   "display_name": "Python 3 (ipykernel)",
   "language": "python",
   "name": "python3"
  },
  "language_info": {
   "codemirror_mode": {
    "name": "ipython",
    "version": 3
   },
   "file_extension": ".py",
   "mimetype": "text/x-python",
   "name": "python",
   "nbconvert_exporter": "python",
   "pygments_lexer": "ipython3",
   "version": "3.11.7"
  }
 },
 "nbformat": 4,
 "nbformat_minor": 4
}
